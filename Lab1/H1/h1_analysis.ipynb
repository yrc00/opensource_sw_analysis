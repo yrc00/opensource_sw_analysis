{
 "cells": [
  {
   "cell_type": "code",
   "execution_count": 3,
   "id": "eb12adf4",
   "metadata": {},
   "outputs": [
    {
     "name": "stdout",
     "output_type": "stream",
     "text": [
      "CSV 변환이 완료되었습니다.\n"
     ]
    }
   ],
   "source": [
    "import csv\n",
    "import re\n",
    "\n",
    "log_dir = \"./level_base_log_data\"\n",
    "log_file_path = f\"{log_dir}/h1_fillrandom_cs0_size256_base67108864.log\"\n",
    "csv_output_path = \"./output.csv\"\n",
    "\n",
    "# 데이터 저장용\n",
    "ops_list = []\n",
    "stats_dict = {}\n",
    "\n",
    "with open(log_file_path, \"r\") as f:\n",
    "    for line in f:\n",
    "        line = line.strip()\n",
    "\n",
    "        # \"finished XXX ops\" 감지\n",
    "        match_ops = re.match(r\"\\.\\.\\. finished (\\d+) ops\", line)\n",
    "        if match_ops:\n",
    "            ops_list.append(int(match_ops.group(1)))\n",
    "\n",
    "        # \"rocksdb.XXX COUNT : N\" 감지\n",
    "        match_stat = re.match(r\"(rocksdb\\.[\\w\\.]+) COUNT\\s*:\\s*(\\d+)\", line)\n",
    "        if match_stat:\n",
    "            key = match_stat.group(1)\n",
    "            value = int(match_stat.group(2))\n",
    "            stats_dict[key] = value\n",
    "\n",
    "# 결과를 CSV로 저장\n",
    "with open(csv_output_path, mode=\"w\", newline='') as csvfile:\n",
    "    writer = csv.writer(csvfile)\n",
    "\n",
    "    # 첫 번째 시트: ops 로그\n",
    "    writer.writerow([\"Ops Sequence\"])\n",
    "    for ops in ops_list:\n",
    "        writer.writerow([ops])\n",
    "\n",
    "    # 빈 줄로 구분\n",
    "    writer.writerow([])\n",
    "\n",
    "    # 두 번째 시트: RocksDB stats\n",
    "    writer.writerow([\"Stat Name\", \"Count\"])\n",
    "    for key, value in stats_dict.items():\n",
    "        writer.writerow([key, value])\n",
    "\n",
    "print(\"CSV 변환이 완료되었습니다.\")"
   ]
  },
  {
   "cell_type": "code",
   "execution_count": 1,
   "id": "5b9a651c",
   "metadata": {},
   "outputs": [
    {
     "name": "stdout",
     "output_type": "stream",
     "text": [
      "CSV 변환이 완료되었습니다.\n"
     ]
    }
   ],
   "source": [
    "import csv\n",
    "import re\n",
    "import os\n",
    "\n",
    "log_dir = \"./level_base_log_data\"\n",
    "log_file_name = \"h1_fillrandom_cs0_size256_base67108864.log\"\n",
    "log_file_path = os.path.join(log_dir, log_file_name)\n",
    "csv_output_path = \"./output.csv\"\n",
    "\n",
    "# 정규표현식을 이용해 파일 이름에서 정보 추출\n",
    "filename_pattern = r\"h1_(\\w+)_cs(\\d+)_size(\\d+)_base(\\d+)\\.log\"\n",
    "match = re.match(filename_pattern, log_file_name)\n",
    "\n",
    "if match:\n",
    "    workload = match.group(1)\n",
    "    compaction_style = int(match.group(2))\n",
    "    value_size = int(match.group(3))\n",
    "    level_base = int(match.group(4))\n",
    "else:\n",
    "    raise ValueError(\"파일 이름에서 필요한 정보를 추출할 수 없습니다.\")\n",
    "\n",
    "# 데이터 저장용\n",
    "ops_list = []\n",
    "stats_dict = {}\n",
    "\n",
    "with open(log_file_path, \"r\") as f:\n",
    "    for line in f:\n",
    "        line = line.strip()\n",
    "\n",
    "        # \"finished XXX ops\" 감지\n",
    "        match_ops = re.match(r\"\\.\\.\\. finished (\\d+) ops\", line)\n",
    "        if match_ops:\n",
    "            ops_list.append(int(match_ops.group(1)))\n",
    "\n",
    "        # \"rocksdb.XXX COUNT : N\" 감지\n",
    "        match_stat = re.match(r\"(rocksdb\\.[\\w\\.]+) COUNT\\s*:\\s*(\\d+)\", line)\n",
    "        if match_stat:\n",
    "            key = match_stat.group(1)\n",
    "            value = int(match_stat.group(2))\n",
    "            stats_dict[key] = value\n",
    "\n",
    "# 결과를 CSV로 저장\n",
    "with open(csv_output_path, mode=\"w\", newline='') as csvfile:\n",
    "    writer = csv.writer(csvfile)\n",
    "\n",
    "    # 헤더\n",
    "    writer.writerow([\n",
    "        \"Type\", \"Name/Value\", \"Count\", \"Workload\", \n",
    "        \"Compaction Style\", \"Value Size\", \"Level Base\"\n",
    "    ])\n",
    "\n",
    "    # ops 리스트 저장\n",
    "    for idx, ops in enumerate(ops_list):\n",
    "        writer.writerow([\n",
    "            \"Ops\", f\"Sequence {idx+1}\", ops, workload, \n",
    "            compaction_style, value_size, level_base\n",
    "        ])\n",
    "\n",
    "    # RocksDB stat 저장\n",
    "    for key, value in stats_dict.items():\n",
    "        writer.writerow([\n",
    "            \"Stat\", key, value, workload, \n",
    "            compaction_style, value_size, level_base\n",
    "        ])\n",
    "\n",
    "print(\"CSV 변환이 완료되었습니다.\")\n"
   ]
  },
  {
   "cell_type": "code",
   "execution_count": 4,
   "id": "f29a67fd",
   "metadata": {},
   "outputs": [
    {
     "ename": "ParserError",
     "evalue": "Error tokenizing data. C error: Expected 1 fields in line 39, saw 2\n",
     "output_type": "error",
     "traceback": [
      "\u001b[31m---------------------------------------------------------------------------\u001b[39m",
      "\u001b[31mParserError\u001b[39m                               Traceback (most recent call last)",
      "\u001b[36mCell\u001b[39m\u001b[36m \u001b[39m\u001b[32mIn[4]\u001b[39m\u001b[32m, line 4\u001b[39m\n\u001b[32m      1\u001b[39m \u001b[38;5;28;01mimport\u001b[39;00m\u001b[38;5;250m \u001b[39m\u001b[34;01mpandas\u001b[39;00m\u001b[38;5;250m \u001b[39m\u001b[38;5;28;01mas\u001b[39;00m\u001b[38;5;250m \u001b[39m\u001b[34;01mpd\u001b[39;00m\n\u001b[32m      3\u001b[39m \u001b[38;5;66;03m# CSV 파일을 읽어 DataFrame으로 변환\u001b[39;00m\n\u001b[32m----> \u001b[39m\u001b[32m4\u001b[39m df = \u001b[43mpd\u001b[49m\u001b[43m.\u001b[49m\u001b[43mread_csv\u001b[49m\u001b[43m(\u001b[49m\u001b[43mcsv_output_path\u001b[49m\u001b[43m)\u001b[49m\n\u001b[32m      6\u001b[39m df.head()\n",
      "\u001b[36mFile \u001b[39m\u001b[32m~/anaconda3/envs/os_analysis/lib/python3.11/site-packages/pandas/io/parsers/readers.py:1026\u001b[39m, in \u001b[36mread_csv\u001b[39m\u001b[34m(filepath_or_buffer, sep, delimiter, header, names, index_col, usecols, dtype, engine, converters, true_values, false_values, skipinitialspace, skiprows, skipfooter, nrows, na_values, keep_default_na, na_filter, verbose, skip_blank_lines, parse_dates, infer_datetime_format, keep_date_col, date_parser, date_format, dayfirst, cache_dates, iterator, chunksize, compression, thousands, decimal, lineterminator, quotechar, quoting, doublequote, escapechar, comment, encoding, encoding_errors, dialect, on_bad_lines, delim_whitespace, low_memory, memory_map, float_precision, storage_options, dtype_backend)\u001b[39m\n\u001b[32m   1013\u001b[39m kwds_defaults = _refine_defaults_read(\n\u001b[32m   1014\u001b[39m     dialect,\n\u001b[32m   1015\u001b[39m     delimiter,\n\u001b[32m   (...)\u001b[39m\u001b[32m   1022\u001b[39m     dtype_backend=dtype_backend,\n\u001b[32m   1023\u001b[39m )\n\u001b[32m   1024\u001b[39m kwds.update(kwds_defaults)\n\u001b[32m-> \u001b[39m\u001b[32m1026\u001b[39m \u001b[38;5;28;01mreturn\u001b[39;00m \u001b[43m_read\u001b[49m\u001b[43m(\u001b[49m\u001b[43mfilepath_or_buffer\u001b[49m\u001b[43m,\u001b[49m\u001b[43m \u001b[49m\u001b[43mkwds\u001b[49m\u001b[43m)\u001b[49m\n",
      "\u001b[36mFile \u001b[39m\u001b[32m~/anaconda3/envs/os_analysis/lib/python3.11/site-packages/pandas/io/parsers/readers.py:626\u001b[39m, in \u001b[36m_read\u001b[39m\u001b[34m(filepath_or_buffer, kwds)\u001b[39m\n\u001b[32m    623\u001b[39m     \u001b[38;5;28;01mreturn\u001b[39;00m parser\n\u001b[32m    625\u001b[39m \u001b[38;5;28;01mwith\u001b[39;00m parser:\n\u001b[32m--> \u001b[39m\u001b[32m626\u001b[39m     \u001b[38;5;28;01mreturn\u001b[39;00m \u001b[43mparser\u001b[49m\u001b[43m.\u001b[49m\u001b[43mread\u001b[49m\u001b[43m(\u001b[49m\u001b[43mnrows\u001b[49m\u001b[43m)\u001b[49m\n",
      "\u001b[36mFile \u001b[39m\u001b[32m~/anaconda3/envs/os_analysis/lib/python3.11/site-packages/pandas/io/parsers/readers.py:1923\u001b[39m, in \u001b[36mTextFileReader.read\u001b[39m\u001b[34m(self, nrows)\u001b[39m\n\u001b[32m   1916\u001b[39m nrows = validate_integer(\u001b[33m\"\u001b[39m\u001b[33mnrows\u001b[39m\u001b[33m\"\u001b[39m, nrows)\n\u001b[32m   1917\u001b[39m \u001b[38;5;28;01mtry\u001b[39;00m:\n\u001b[32m   1918\u001b[39m     \u001b[38;5;66;03m# error: \"ParserBase\" has no attribute \"read\"\u001b[39;00m\n\u001b[32m   1919\u001b[39m     (\n\u001b[32m   1920\u001b[39m         index,\n\u001b[32m   1921\u001b[39m         columns,\n\u001b[32m   1922\u001b[39m         col_dict,\n\u001b[32m-> \u001b[39m\u001b[32m1923\u001b[39m     ) = \u001b[38;5;28;43mself\u001b[39;49m\u001b[43m.\u001b[49m\u001b[43m_engine\u001b[49m\u001b[43m.\u001b[49m\u001b[43mread\u001b[49m\u001b[43m(\u001b[49m\u001b[43m  \u001b[49m\u001b[38;5;66;43;03m# type: ignore[attr-defined]\u001b[39;49;00m\n\u001b[32m   1924\u001b[39m \u001b[43m        \u001b[49m\u001b[43mnrows\u001b[49m\n\u001b[32m   1925\u001b[39m \u001b[43m    \u001b[49m\u001b[43m)\u001b[49m\n\u001b[32m   1926\u001b[39m \u001b[38;5;28;01mexcept\u001b[39;00m \u001b[38;5;167;01mException\u001b[39;00m:\n\u001b[32m   1927\u001b[39m     \u001b[38;5;28mself\u001b[39m.close()\n",
      "\u001b[36mFile \u001b[39m\u001b[32m~/anaconda3/envs/os_analysis/lib/python3.11/site-packages/pandas/io/parsers/c_parser_wrapper.py:234\u001b[39m, in \u001b[36mCParserWrapper.read\u001b[39m\u001b[34m(self, nrows)\u001b[39m\n\u001b[32m    232\u001b[39m \u001b[38;5;28;01mtry\u001b[39;00m:\n\u001b[32m    233\u001b[39m     \u001b[38;5;28;01mif\u001b[39;00m \u001b[38;5;28mself\u001b[39m.low_memory:\n\u001b[32m--> \u001b[39m\u001b[32m234\u001b[39m         chunks = \u001b[38;5;28;43mself\u001b[39;49m\u001b[43m.\u001b[49m\u001b[43m_reader\u001b[49m\u001b[43m.\u001b[49m\u001b[43mread_low_memory\u001b[49m\u001b[43m(\u001b[49m\u001b[43mnrows\u001b[49m\u001b[43m)\u001b[49m\n\u001b[32m    235\u001b[39m         \u001b[38;5;66;03m# destructive to chunks\u001b[39;00m\n\u001b[32m    236\u001b[39m         data = _concatenate_chunks(chunks)\n",
      "\u001b[36mFile \u001b[39m\u001b[32mparsers.pyx:838\u001b[39m, in \u001b[36mpandas._libs.parsers.TextReader.read_low_memory\u001b[39m\u001b[34m()\u001b[39m\n",
      "\u001b[36mFile \u001b[39m\u001b[32mparsers.pyx:905\u001b[39m, in \u001b[36mpandas._libs.parsers.TextReader._read_rows\u001b[39m\u001b[34m()\u001b[39m\n",
      "\u001b[36mFile \u001b[39m\u001b[32mparsers.pyx:874\u001b[39m, in \u001b[36mpandas._libs.parsers.TextReader._tokenize_rows\u001b[39m\u001b[34m()\u001b[39m\n",
      "\u001b[36mFile \u001b[39m\u001b[32mparsers.pyx:891\u001b[39m, in \u001b[36mpandas._libs.parsers.TextReader._check_tokenize_status\u001b[39m\u001b[34m()\u001b[39m\n",
      "\u001b[36mFile \u001b[39m\u001b[32mparsers.pyx:2061\u001b[39m, in \u001b[36mpandas._libs.parsers.raise_parser_error\u001b[39m\u001b[34m()\u001b[39m\n",
      "\u001b[31mParserError\u001b[39m: Error tokenizing data. C error: Expected 1 fields in line 39, saw 2\n"
     ]
    }
   ],
   "source": [
    "import pandas as pd\n",
    "\n",
    "# CSV 파일을 읽어 DataFrame으로 변환\n",
    "df = pd.read_csv(csv_output_path)\n",
    "\n",
    "df.head()"
   ]
  },
  {
   "cell_type": "code",
   "execution_count": null,
   "id": "aaaf9570",
   "metadata": {},
   "outputs": [],
   "source": []
  }
 ],
 "metadata": {
  "kernelspec": {
   "display_name": "os_analysis",
   "language": "python",
   "name": "python3"
  },
  "language_info": {
   "codemirror_mode": {
    "name": "ipython",
    "version": 3
   },
   "file_extension": ".py",
   "mimetype": "text/x-python",
   "name": "python",
   "nbconvert_exporter": "python",
   "pygments_lexer": "ipython3",
   "version": "3.11.11"
  }
 },
 "nbformat": 4,
 "nbformat_minor": 5
}
