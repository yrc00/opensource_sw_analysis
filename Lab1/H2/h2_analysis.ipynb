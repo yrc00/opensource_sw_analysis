{
 "cells": [
  {
   "cell_type": "code",
   "execution_count": null,
   "id": "5b12fee3",
   "metadata": {},
   "outputs": [],
   "source": [
    "import csv\n",
    "import re\n",
    "import os\n",
    "\n",
    "log_dir = \"./log_data\"\n",
    "log_file_name = \"fillrandom_cs0_perf.log\"\n",
    "log_file_path = os.path.join(log_dir, log_file_name)\n",
    "csv_output_path = \"./h2_output.csv\"\n",
    "\n",
    "# 정규표현식을 이용해 파일 이름에서 정보 추출\n",
    "filename_pattern = r\"(\\w+)_cs(\\d+)_(\\w+).log\"\n",
    "match = re.match(filename_pattern, log_file_name)\n",
    "\n",
    "if match:\n",
    "    # 정규표현식을 활용한 정보 추출\n",
    "    workload = match.group(1)\n",
    "    compaction_style = int(match.group(2))\n",
    "    configs = match.group(3)\n",
    "else:\n",
    "    raise ValueError(\"파일 이름에서 필요한 정보를 추출할 수 없습니다.\")\n",
    "\n",
    "# 데이터 저장용\n",
    "ops_list = []\n",
    "stats_dict = {}\n",
    "\n",
    "with open(log_file_path, \"r\") as f:\n",
    "    for line in f:\n",
    "        "
   ]
  }
 ],
 "metadata": {
  "language_info": {
   "name": "python"
  }
 },
 "nbformat": 4,
 "nbformat_minor": 5
}
